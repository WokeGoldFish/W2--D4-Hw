{
 "cells": [
  {
   "cell_type": "markdown",
   "metadata": {},
   "source": [
    "# Object-Oriented-Programming (OOP)"
   ]
  },
  {
   "cell_type": "markdown",
   "metadata": {},
   "source": [
    "## Tasks Today:\n",
    "\n",
    "   \n",
    "\n",
    "1) <b>Creating a Class (Initializing/Declaring)</b> <br>\n",
    "2) <b>Using a Class (Instantiating)</b> <br>\n",
    " &nbsp;&nbsp;&nbsp;&nbsp; a) Creating One Instance <br>\n",
    " &nbsp;&nbsp;&nbsp;&nbsp; b) Creating Multiple Instances <br>\n",
    " &nbsp;&nbsp;&nbsp;&nbsp; c) In-Class Exercise #1 - Create a Class 'Car' and instantiate three different makes of cars <br>\n",
    "3) <b>The \\__init\\__() Method</b> <br>\n",
    " &nbsp;&nbsp;&nbsp;&nbsp; a) The 'self' Attribute <br>\n",
    "4) <b>Class Attributes</b> <br>\n",
    " &nbsp;&nbsp;&nbsp;&nbsp; a) Initializing Attributes <br>\n",
    " &nbsp;&nbsp;&nbsp;&nbsp; b) Setting an Attribute Outside of the \\__init\\__() Method <br>\n",
    " &nbsp;&nbsp;&nbsp;&nbsp; c) Setting Defaults for Attributes <br>\n",
    " &nbsp;&nbsp;&nbsp;&nbsp; d) Accessing Class Attributes <br>\n",
    " &nbsp;&nbsp;&nbsp;&nbsp; e) Changing Class Attributes <br>\n",
    " &nbsp;&nbsp;&nbsp;&nbsp; f) In-Class Exercise #2 - Add a color and wheels attribute to your 'Car' class <br>\n",
    "5) <b>Class Methods</b> <br>\n",
    " &nbsp;&nbsp;&nbsp;&nbsp; a) Creating <br>\n",
    " &nbsp;&nbsp;&nbsp;&nbsp; b) Calling <br>\n",
    " &nbsp;&nbsp;&nbsp;&nbsp; c) Modifying an Attribute's Value Through a Method <br>\n",
    " &nbsp;&nbsp;&nbsp;&nbsp; d) Incrementing an Attribute's Value Through a Method <br>\n",
    " &nbsp;&nbsp;&nbsp;&nbsp; e) In-Class Exercise #3 - Add a method that prints the cars color and wheel number, then call them <br>\n",
    "6) <b>Inheritance</b> <br>\n",
    " &nbsp;&nbsp;&nbsp;&nbsp; a) Syntax for Inheriting from a Parent Class <br>\n",
    " &nbsp;&nbsp;&nbsp;&nbsp; b) The \\__init\\__() Method for a Child Class (super()) <br>\n",
    " &nbsp;&nbsp;&nbsp;&nbsp; c) Defining Attributes and Methods for the Child Class <br>\n",
    " &nbsp;&nbsp;&nbsp;&nbsp; d) Method Overriding <br>\n",
    " &nbsp;&nbsp;&nbsp;&nbsp; e) In-Class Exercise #4 - Create a class 'Ford' that inherits from 'Car' class and initialize it as a Blue Ford Explorer with 4 wheels using the super() method <br>\n",
    "7) <b>Classes as Attributes</b> <br>\n",
    "8) <b>Exercises</b> <br>\n",
    " &nbsp;&nbsp;&nbsp;&nbsp; a) Exercise #1 - Turn the shopping cart program from yesterday into an object-oriented program <br>"
   ]
  },
  {
   "cell_type": "code",
   "execution_count": 122,
   "metadata": {},
   "outputs": [],
   "source": [
    "cart = []\n",
    "# add to cart\n",
    "\n",
    "def addToCart(cart):\n",
    "    item = input('what do you want to add')\n",
    "    cart.append(item)\n",
    "\n",
    "#remove from cart\n",
    "def removeFromCart(cart):\n",
    "    item=input('what item do you want to remove')\n",
    "    car.remove(item)\n",
    "#show cart\n",
    "def showCart(cart):\n",
    "    ('here are the items in cart')\n",
    "    for item in car:\n",
    "        print(item)\n",
    "#clear cart func\n",
    "\n",
    "def clearCart(cart):\n",
    "    print('your cart is empty')\n",
    "\n",
    "def shoppingCart(cart):\n",
    "    while True:\n",
    "        res = input('what do you want to do? Add/ Remove? Shoe/ Clear/ Quit')\n",
    "        if res.lower() == 'add':\n",
    "            addToCart(cart)\n",
    "        elif res.lower() == 'remove':\n",
    "            removeFromCart(cart)\n",
    "        elif res.lower() == 'show':\n",
    "            showCart(cart)\n",
    "    pass    "
   ]
  },
  {
   "cell_type": "code",
   "execution_count": 121,
   "metadata": {},
   "outputs": [],
   "source": [
    "# Circumfrance of a cirle\n"
   ]
  },
  {
   "cell_type": "markdown",
   "metadata": {},
   "source": [
    "## Creating a Class (Initializing/Declaring)\n",
    "<p>When creating a class, function, or even a variable you are initializing that object. Initializing and Declaring occur at the same time in Python, whereas in lower level languages you have to declare an object before initializing it. This is the first step in the process of using a class.</p>"
   ]
  },
  {
   "cell_type": "code",
   "execution_count": 5,
   "metadata": {},
   "outputs": [],
   "source": [
    "# class Car():\n",
    "#     wheel = 4\n",
    "#     color = 'blue'\n",
    "\n"
   ]
  },
  {
   "cell_type": "markdown",
   "metadata": {},
   "source": [
    "## Using a Class (Instantiating)\n",
    "<p>The process of creating a class is called <i>Instantiating</i>. Each time you create a variable of that type of class, it is referred to as an <i>Instance</i> of that class. This is the second step in the process of using a class.</p>"
   ]
  },
  {
   "cell_type": "markdown",
   "metadata": {},
   "source": [
    "##### Creating One Instance"
   ]
  },
  {
   "cell_type": "code",
   "execution_count": 6,
   "metadata": {},
   "outputs": [],
   "source": [
    "# x = Car()\n",
    "# ford = Car()"
   ]
  },
  {
   "cell_type": "markdown",
   "metadata": {},
   "source": [
    "##### Creating Multiple Instances"
   ]
  },
  {
   "cell_type": "code",
   "execution_count": 9,
   "metadata": {},
   "outputs": [
    {
     "name": "stdout",
     "output_type": "stream",
     "text": [
      "4\n",
      "10\n"
     ]
    }
   ],
   "source": [
    "# honda = Car()\n",
    "# toyota = Car()\n",
    "\n",
    "# print(x.wheel)\n",
    "# honda.wheel = 10\n",
    "# print(honda.wheel)\n"
   ]
  },
  {
   "cell_type": "markdown",
   "metadata": {},
   "source": [
    "##### In-Class Exercise #1 - Create a Class 'Car' and Instantiate three different makes of cars"
   ]
  },
  {
   "cell_type": "code",
   "execution_count": 16,
   "metadata": {},
   "outputs": [
    {
     "name": "stdout",
     "output_type": "stream",
     "text": [
      "True\n",
      "False\n",
      "False\n",
      "True\n",
      "green\n",
      "brown\n",
      "gray\n",
      "blue\n"
     ]
    }
   ],
   "source": [
    "#door\n",
    "#color\n",
    "#sunroof\n",
    "\n",
    "class Car():\n",
    "    door = 4\n",
    "    color = \"black\"\n",
    "    sunroof = False\n",
    "\n",
    "tesla = Car()\n",
    "honda = Car()\n",
    "toyota = Car()\n",
    "audi = Car()\n",
    "\n",
    "audi.sunroof = True \n",
    "tesla.sunroof = True\n",
    "\n",
    "print(tesla.sunroof)\n",
    "print(toyota.sunroof)\n",
    "print(honda.sunroof)\n",
    "print(audi.sunroof)\n",
    "\n",
    "\n",
    "toyota.color = 'blue'\n",
    "honda.color = 'brown'\n",
    "tesla.color = 'green'\n",
    "audi.color = 'gray'\n",
    "\n",
    "print(tesla.color)\n",
    "print(honda.color)\n",
    "print(audi.color)\n",
    "print(toyota.color)"
   ]
  },
  {
   "cell_type": "markdown",
   "metadata": {},
   "source": [
    "## The \\__init\\__() Method <br>\n",
    "<p>This method is used in almost every created class, and called only once upon the creation of the class instance. This method will initialize all variables needed for the object.</p>"
   ]
  },
  {
   "cell_type": "code",
   "execution_count": 23,
   "metadata": {},
   "outputs": [
    {
     "name": "stdout",
     "output_type": "stream",
     "text": [
      "4.7L\n",
      "4\n",
      "Black\n",
      "4.7L\n",
      "904\n",
      "Blue\n"
     ]
    }
   ],
   "source": [
    "class Car():\n",
    "    engine = '4.7L'\n",
    "    \n",
    "    \n",
    "    # create the constructor == dunder method\n",
    "    \n",
    "    def __init__(self, w, color):\n",
    "        self.wheels = w\n",
    "        self.color = color\n",
    "        \n",
    "ford = Car(4, 'Black')\n",
    "\n",
    "print(ford.engine)\n",
    "print(ford.wheels)\n",
    "print(ford.color)\n",
    "\n",
    "\n",
    "fords = Car(904, 'Blue')\n",
    "\n",
    "print(fords.engine)\n",
    "print(fords.wheels)\n",
    "print(fords.color)"
   ]
  },
  {
   "cell_type": "markdown",
   "metadata": {},
   "source": [
    "##### The 'self' Attribute <br>\n",
    "<p>This attribute is required to keep track of specific instance's attributes. Without the self attribute, the program would not know how to reference or keep track of an instance's attributes.</p>"
   ]
  },
  {
   "cell_type": "code",
   "execution_count": null,
   "metadata": {},
   "outputs": [],
   "source": [
    "# see above"
   ]
  },
  {
   "cell_type": "markdown",
   "metadata": {},
   "source": [
    "## Class Attributes <br>\n",
    "<p>While variables are inside of a class, they are referred to as attributes and not variables. When someone says 'attribute' you know they're speaking about a class. Attributes can be initialized through the init method, or outside of it.</p>"
   ]
  },
  {
   "cell_type": "markdown",
   "metadata": {},
   "source": [
    "##### Initializing Attributes"
   ]
  },
  {
   "cell_type": "code",
   "execution_count": 28,
   "metadata": {},
   "outputs": [
    {
     "name": "stdout",
     "output_type": "stream",
     "text": [
      "<__main__.Toy object at 0x0000021754BF72B0>\n",
      "<class '__main__.Toy'>\n",
      "{'rooftop': True, 'horn': 1, 'wheels': 5}\n",
      "car\n"
     ]
    }
   ],
   "source": [
    "# see above\n",
    "\n",
    "class Toy():\n",
    "    kind = 'car' #constant and does not change\n",
    "    \n",
    "    def __init__(self, rooftop, horn, wheels):\n",
    "        self.rooftop = rooftop\n",
    "        self.horn = horn\n",
    "        self.wheels = wheels\n",
    "        \n",
    "toy1 =Toy(True, 1, 5) #T rooftop - 1 horn - 5 wheels\n",
    "toy1.rooftop\n",
    "\n",
    "print(toy1)\n",
    "print(type(toy1))\n",
    "print(toy1.__dict__)\n",
    "print(toy1.kind)"
   ]
  },
  {
   "cell_type": "markdown",
   "metadata": {},
   "source": [
    "##### Accessing Class Attributes"
   ]
  },
  {
   "cell_type": "code",
   "execution_count": null,
   "metadata": {
    "scrolled": true
   },
   "outputs": [],
   "source": [
    "# See Above"
   ]
  },
  {
   "cell_type": "markdown",
   "metadata": {},
   "source": [
    "##### Setting Defaults for Attributes"
   ]
  },
  {
   "cell_type": "code",
   "execution_count": 31,
   "metadata": {},
   "outputs": [
    {
     "data": {
      "text/plain": [
       "{'wheels': 4, 'color': 'Blue', 'sunroof': True}"
      ]
     },
     "execution_count": 31,
     "metadata": {},
     "output_type": "execute_result"
    }
   ],
   "source": [
    "class Car():\n",
    "    def __init__(self, wheels, sunroof = False):\n",
    "        self.wheels =wheels\n",
    "        self.color = 'Blue' #default attribute\n",
    "        self.sunroof = sunroof\n",
    "        \n",
    "tesla = Car(4, True)\n",
    "tesla.__dict__"
   ]
  },
  {
   "cell_type": "markdown",
   "metadata": {},
   "source": [
    "##### Changing Class Attributes <br>\n",
    "<p>Keep in mind there are global class attributes and then there are attributes only available to each class instance which won't effect other classes.</p>"
   ]
  },
  {
   "cell_type": "code",
   "execution_count": 33,
   "metadata": {},
   "outputs": [
    {
     "name": "stdout",
     "output_type": "stream",
     "text": [
      "{'wheels': 4, 'color': 'White', 'sunroof': True}\n"
     ]
    }
   ],
   "source": [
    "tesla.color = 'White'\n",
    "print(tesla.__dict__)"
   ]
  },
  {
   "cell_type": "code",
   "execution_count": null,
   "metadata": {},
   "outputs": [],
   "source": []
  },
  {
   "cell_type": "markdown",
   "metadata": {},
   "source": [
    "##### In-Class Exercise #2 - Add a doors and seats attribute to your 'Car' class then print out two different instances with different doors and seats"
   ]
  },
  {
   "cell_type": "code",
   "execution_count": 42,
   "metadata": {},
   "outputs": [
    {
     "name": "stdout",
     "output_type": "stream",
     "text": [
      "{'doors': 4, 'seats': 4}\n",
      "{'doors': 2, 'seats': 2}\n",
      "sporty car\n"
     ]
    }
   ],
   "source": [
    "class Car():\n",
    "    kind = 'sporty car'\n",
    "    def __init__(self, doors, seats):\n",
    "        self.doors = doors\n",
    "        self.seats = seats\n",
    "        \n",
    "subaru = Car(4, 4)\n",
    "print(subaru.__dict__)\n",
    "\n",
    "subaru = Car(2,2)\n",
    "print(subaru.__dict__)\n",
    "\n",
    "print(subaru.kind)"
   ]
  },
  {
   "cell_type": "markdown",
   "metadata": {},
   "source": [
    "## Class Methods <br>\n",
    "<p>While inside of a class, functions are referred to as 'methods'. If you hear someone mention methods, they're speaking about classes. Methods are essentially functions, but only callable on the instances of a class.</p>"
   ]
  },
  {
   "cell_type": "markdown",
   "metadata": {},
   "source": [
    "##### Creating"
   ]
  },
  {
   "cell_type": "code",
   "execution_count": 58,
   "metadata": {},
   "outputs": [
    {
     "name": "stdout",
     "output_type": "stream",
     "text": [
      "9\n",
      "3\n",
      "3\n",
      "die\n",
      "{'name': 'Garfield', 'color': 'brown', 'lives': -3}\n",
      "{'name': 'Gato', 'color': 'Black', 'lives': 9}\n",
      "<bound method Cat.talk of <__main__.Cat object at 0x0000021753B10F70>>\n"
     ]
    }
   ],
   "source": [
    "class Cat():\n",
    "    def __init__(self, name, color= 'brown'):\n",
    "        self.name =name\n",
    "        self.color = color\n",
    "        self.lives = 9\n",
    "    def talk(self):\n",
    "        print('meow')\n",
    "    def takeDmg(self):\n",
    "        self.lives -= 1\n",
    "        if self.lives == 0:\n",
    "            print('die')\n",
    "\n",
    "buddy = Cat('buddy', 'orange')\n",
    "garfield = Cat(\"Garfield\")\n",
    "x = Cat(\"Gato\", \"Black\")\n",
    "\n",
    "print(garfield.lives)\n",
    "garfield.takeDmg()\n",
    "garfield.takeDmg()\n",
    "garfield.takeDmg()\n",
    "garfield.takeDmg()\n",
    "garfield.takeDmg()\n",
    "garfield.takeDmg()\n",
    "print(garfield.lives)\n",
    "print(garfield.lives)\n",
    "garfield.takeDmg()\n",
    "garfield.takeDmg()\n",
    "garfield.takeDmg()\n",
    "garfield.takeDmg()\n",
    "garfield.takeDmg()\n",
    "garfield.takeDmg()\n",
    "print(garfield.__dict__)\n",
    "print(x.__dict__)\n",
    "print(x.talk)"
   ]
  },
  {
   "cell_type": "markdown",
   "metadata": {},
   "source": [
    "##### Calling"
   ]
  },
  {
   "cell_type": "code",
   "execution_count": null,
   "metadata": {},
   "outputs": [],
   "source": [
    "# See Above"
   ]
  },
  {
   "cell_type": "markdown",
   "metadata": {},
   "source": [
    "##### Modifying an Attribute's Value Through a Method"
   ]
  },
  {
   "cell_type": "code",
   "execution_count": null,
   "metadata": {},
   "outputs": [],
   "source": []
  },
  {
   "cell_type": "markdown",
   "metadata": {},
   "source": [
    "##### Incrementing an Attribute's Value Through a Method"
   ]
  },
  {
   "cell_type": "code",
   "execution_count": null,
   "metadata": {},
   "outputs": [],
   "source": []
  },
  {
   "cell_type": "markdown",
   "metadata": {},
   "source": [
    "##### In-Class Exercise #3 - Add a method that takes in three parameters of year, doors and seats and prints out a formatted print statement with make, model, year, seats, and doors"
   ]
  },
  {
   "cell_type": "code",
   "execution_count": 103,
   "metadata": {},
   "outputs": [
    {
     "name": "stdout",
     "output_type": "stream",
     "text": [
      "{'make': 'Ford', 'model': 'Explorer', 'year': 2019, 'doors': 4, 'seats': 5}\n",
      " This car is from 2019 and is a Ford Explorer and has 4 doors and 5 seats\n"
     ]
    }
   ],
   "source": [
    "# Create class with 2 paramters inside of the __init__ which are make and model\n",
    "\n",
    "# Inside of the Car class create a method that has 4 parameter in total (self,year,door,seats)\n",
    "\n",
    "# Output: This car is from 2019 and is a Ford Expolorer and has 4 doors and 5 seats\n",
    "\n",
    "class Car():\n",
    "    def __init__(self, make, model, year, doors, seats):\n",
    "        self.make = make\n",
    "        self.model = model\n",
    "        self.year = year\n",
    "        self.doors = doors\n",
    "        self.seats = seats\n",
    "#         print(f' This car is from {year} and is a {make} {model} and has {doors} doors and {seats} seats' )\n",
    "\n",
    "        \n",
    "    def carInfo(self):\n",
    "        output = f' This car is from {self.year} and is a {self.make} {self.model} and has {self.doors} doors and {self.seats} seats' \n",
    "        return output\n",
    "#     \n",
    "\n",
    "    \n",
    "#     print(f' This car is from {year} and is a {make} {model} and has {doors} doors and {seats} seats')\n",
    "    \n",
    "       \n",
    "        \n",
    "thisCar = Car('Ford', 'Explorer', 2019, 4, 5)\n",
    "car1 = thisCar.carInfo()\n",
    "\n",
    "print(thisCar.__dict__)\n",
    "print(car1)\n",
    "# car1 = Car.carInfo()\n",
    "# car1.display()\n",
    "\n"
   ]
  },
  {
   "cell_type": "markdown",
   "metadata": {},
   "source": [
    "## Inheritance <br>\n",
    "<p>You can create a child-parent relationship between two classes by using inheritance. What this allows you to do is have overriding methods, but also inherit traits from the parent class. Think of it as an actual parent and child, the child will inherit the parent's genes, as will the classes in OOP</p>"
   ]
  },
  {
   "cell_type": "markdown",
   "metadata": {},
   "source": [
    "##### Syntax for Inheriting from a Parent Class"
   ]
  },
  {
   "cell_type": "code",
   "execution_count": 112,
   "metadata": {},
   "outputs": [
    {
     "name": "stdout",
     "output_type": "stream",
     "text": [
      "WOOF\n",
      "<class '__main__.Dog'>\n",
      "{'name': 'ruff', 'legs': 4, 'canine': True}\n",
      "======\n",
      "{'name': 'garf', 'legs': 4, 'feline': True}\n",
      "meow\n"
     ]
    }
   ],
   "source": [
    "## creation of Parent Class\n",
    "class Animal():\n",
    "    def __init__(self, name, legs = 4):\n",
    "        self.name = name\n",
    "        self.legs = legs\n",
    "    def talk(self):\n",
    "        print('...')\n",
    "# creation of children\n",
    "\n",
    "class Dog(Animal):\n",
    "    def __init__(self, name, legs = 4, canine = True):\n",
    "        Animal.__init__(self, name, legs)\n",
    "        self.canine = canine\n",
    "    def talk(self):\n",
    "        print('WOOF')\n",
    "    \n",
    "class Cat(Animal):\n",
    "    def __init__(self, name, legs = 4, feline = True):\n",
    "        super().__init__(name, legs)\n",
    "        self.feline = feline\n",
    "    def talk(self):\n",
    "        print('meow')\n",
    "        \n",
    "class Monkey(Animal):\n",
    "    def __init__(self):\n",
    "        pass\n",
    "    \n",
    "\n",
    "d1 = Dog('ruff')\n",
    "d1.talk()\n",
    "print(type(d1))\n",
    "print(d1.__dict__)\n",
    "\n",
    "\n",
    "print('======')\n",
    "c1 = Cat('garf')\n",
    "print(c1.__dict__)\n",
    "c1.talk()"
   ]
  },
  {
   "cell_type": "markdown",
   "metadata": {},
   "source": [
    "##### The \\__init\\__() Method for a Child Class - super()"
   ]
  },
  {
   "cell_type": "code",
   "execution_count": null,
   "metadata": {
    "scrolled": true
   },
   "outputs": [],
   "source": []
  },
  {
   "cell_type": "markdown",
   "metadata": {},
   "source": [
    "##### Defining Attributes and Methods for the Child Class"
   ]
  },
  {
   "cell_type": "code",
   "execution_count": null,
   "metadata": {},
   "outputs": [],
   "source": [
    "# See Above"
   ]
  },
  {
   "cell_type": "markdown",
   "metadata": {},
   "source": [
    "##### Method Overriding"
   ]
  },
  {
   "cell_type": "code",
   "execution_count": null,
   "metadata": {},
   "outputs": [],
   "source": [
    "# See Above"
   ]
  },
  {
   "cell_type": "markdown",
   "metadata": {},
   "source": [
    "## Classes as Attributes <br>\n",
    "<p>Classes can also be used as attributes within another class. This is useful in situations where you need to keep variables locally stored, instead of globally stored.</p>"
   ]
  },
  {
   "cell_type": "code",
   "execution_count": 116,
   "metadata": {},
   "outputs": [
    {
     "name": "stdout",
     "output_type": "stream",
     "text": [
      "{'year': 2020, 'make': 'Tesla', 'model': 'CyberTruck', 'battery': <__main__.Battery object at 0x0000021755AA5790>}\n",
      "This is a 2020 Tesla CyberTruck and has a battery power of 20\n"
     ]
    }
   ],
   "source": [
    "class Battery():\n",
    "    def __init__(self, cells):\n",
    "        self.cells = cells\n",
    "        self.volts = 7.8\n",
    "\n",
    "class Car():\n",
    "    def __init__ (self, year, make, model, battery):\n",
    "        self.year = year\n",
    "        self.make = make\n",
    "        self.model = model\n",
    "        self.battery = battery\n",
    "    def printInfo(self):\n",
    "        string = f'This is a {self.year} {self.make} {self.model} and has a battery power of {self.battery.cells}'\n",
    "        print(string)\n",
    "        return string\n",
    "    \n",
    "b1 = Battery(20)\n",
    "\n",
    "tesla = Car(2020, 'Tesla', 'CyberTruck', b1)\n",
    "\n",
    "print(tesla.__dict__)\n",
    "x = tesla.printInfo()"
   ]
  },
  {
   "cell_type": "markdown",
   "metadata": {},
   "source": [
    "# Exercises"
   ]
  },
  {
   "cell_type": "markdown",
   "metadata": {},
   "source": [
    "### Exercise 1 - Turn the shopping cart program from yesterday into an object-oriented program"
   ]
  },
  {
   "cell_type": "code",
   "execution_count": 6,
   "metadata": {},
   "outputs": [
    {
     "name": "stdout",
     "output_type": "stream",
     "text": [
      "Add / Delete / Show or Quit?add\n",
      "what do you want to addswordsaint\n",
      "enter quantity added:10\n",
      "Add / Delete / Show or Quit?add\n",
      "what do you want to addpp\n",
      "enter quantity added:50\n",
      "Add / Delete / Show or Quit?show\n",
      "here are the items in cart\n",
      "swordsaint 10\n",
      "pp 50\n",
      "Add / Delete / Show or Quit?delete pp\n",
      "Invalid Input\n",
      "Add / Delete / Show or Quit?delete\n",
      "what item do you want to removepp\n",
      "Add / Delete / Show or Quit?quit\n",
      "here are the items in cart\n",
      "swordsaint 10\n"
     ]
    }
   ],
   "source": [
    "# Create a class called cart that retains items and has methods to add, remove, and show\n",
    "\n",
    "class ShoppingCart():\n",
    "    \n",
    "    def __init__(self, cart):\n",
    "        self.cart = cart\n",
    "        \n",
    "    def addToCart(self):\n",
    "        x = input('What do you want to add:')\n",
    "        quantity = int(input('Enter quantity added:'))\n",
    "        if x not in self.cart:\n",
    "            self.cart[x] = 0\n",
    "        self.cart[x] += quantity\n",
    "        \n",
    "    def removeFromCart(self):\n",
    "        item = input('What item do you want to remove:')\n",
    "        if item not in self.cart:\n",
    "            print('Input not Valid!!!')\n",
    "        else:\n",
    "            del self.cart[item]\n",
    "              \n",
    "    def showCart(self):\n",
    "        print('Here are the items in cart!')\n",
    "        for item in self.cart:\n",
    "            print(item ,self.cart[item])\n",
    "\n",
    "def myCart():\n",
    "    choice = input(\"Add / Delete / Show or Quit?\")\n",
    "    choice = choice.lower()\n",
    "    x = ShoppingCart({})\n",
    "    \n",
    "    while choice != 'quit':\n",
    "        \n",
    "        if choice == 'add':\n",
    "            x.addToCart()\n",
    "            \n",
    "        elif choice == 'delete':\n",
    "            x.removeFromCart()\n",
    "        \n",
    "        elif choice == 'show':\n",
    "            x.showCart()\n",
    "        \n",
    "        elif choice != 'quit':\n",
    "            print('Invalid Input!!!')\n",
    "        \n",
    "        choice = input(\"Add / Delete / Show or Quit?\")\n",
    "        choice = choice.lower()\n",
    "        \n",
    "    x.showCart()\n",
    "    return\n",
    "            \n",
    "\n",
    "myCart()"
   ]
  },
  {
   "cell_type": "code",
   "execution_count": null,
   "metadata": {},
   "outputs": [],
   "source": [
    "def shoppingCart():\n",
    "    choice = input(\"Add/Delete/Show or Quit:\")\n",
    "    cart ={}\n",
    "    while choice.lower() != 'quit':\n",
    "\n",
    "        if choice.lower() == 'add':\n",
    "            item = input('item name?')\n",
    "\n",
    "            quantity = int(input('enter quantity added:'))\n",
    "            cart[item] = cart.get(item, 0) + quantity\n",
    "\n",
    "        elif choice.lower() == 'delete':\n",
    "            item = input('item name?')\n",
    "            del(cart[item])\n",
    "\n",
    "        elif choice.lower() == 'show':\n",
    "            for item in cart:\n",
    "                print(item, cart[item])\n",
    "\n",
    "        elif choice.lower() != 'add' or choice.lower() != 'delete' or choice.lower() != 'show' or choice.lower() != 'quit':\n",
    "            print('you have not entered a valid choice')\n",
    "\n",
    "        choice = input(\"Add/Delete/Show or Quit: \")\n",
    "\n",
    "        if choice.lower() == 'quit':\n",
    "            print(cart)\n",
    "            break\n",
    "            cart[item] = quantity\n",
    "    return \n"
   ]
  },
  {
   "cell_type": "markdown",
   "metadata": {},
   "source": [
    "### Exercise 2 - Write a Python class which has two methods get_String and print_String. get_String accept a string from the user and print_String print the string in upper case"
   ]
  },
  {
   "cell_type": "code",
   "execution_count": 2,
   "metadata": {},
   "outputs": [
    {
     "name": "stdout",
     "output_type": "stream",
     "text": [
      "hello\n",
      "HELLO\n"
     ]
    }
   ],
   "source": []
  },
  {
   "cell_type": "code",
   "execution_count": 16,
   "metadata": {},
   "outputs": [
    {
     "name": "stdout",
     "output_type": "stream",
     "text": [
      "what you wanthello\n",
      "HELLO\n"
     ]
    }
   ],
   "source": [
    "class String():\n",
    "    # 1st initialize and set attributes/instance variable\n",
    "    # create functions that 1st take in a string \n",
    "    # create a function that returns input string in upper case\n",
    "    \n",
    "    def __init__(self):\n",
    "        self.str1 = ''\n",
    "    def get_String(self):\n",
    "        self.str1 = input('what you want')\n",
    "    \n",
    "    def print_String(self):\n",
    "        print(self.str1.upper())\n",
    "        \n",
    "str2 = String()\n",
    "str2.get_String()\n",
    "str2.print_String()\n",
    "\n",
    "    "
   ]
  },
  {
   "cell_type": "code",
   "execution_count": 3,
   "metadata": {},
   "outputs": [
    {
     "name": "stdout",
     "output_type": "stream",
     "text": [
      "hello there my name is BRANDAM\n",
      "HELLO THERE MY NAME IS BRANDAM\n"
     ]
    }
   ],
   "source": [
    "class String():\n",
    "    ## create innit function that for the empty string\n",
    "    def __init__(self):\n",
    "        self.str1 = ''\n",
    "        \n",
    "    ## get the string from user input -- and assign it to self\n",
    "    def get_String(self):\n",
    "        self.str1 = input()\n",
    "        \n",
    "    ## print function -- returns original input str in all upper case\n",
    "    def print_String(self):\n",
    "        print(self.str1.upper())\n",
    "        \n",
    "str1 = String()\n",
    "str1.get_String()\n",
    "str1.print_String()\n",
    "        \n"
   ]
  },
  {
   "cell_type": "code",
   "execution_count": 13,
   "metadata": {},
   "outputs": [
    {
     "name": "stdout",
     "output_type": "stream",
     "text": [
      "Add/Delete/Show or Quit:brian\n",
      "you have not entered a valid choice\n",
      "Add/Delete/Show or Quit: add\n",
      "item name?brain\n",
      "enter quantity added:1000\n",
      "Add/Delete/Show or Quit: add\n",
      "item name?brian\n",
      "enter quantity added:40000\n",
      "Add/Delete/Show or Quit: show\n",
      "brain 1000\n",
      "brian 40000\n",
      "Add/Delete/Show or Quit: quit\n",
      "{'brain': 1000, 'brian': 40000}\n"
     ]
    },
    {
     "data": {
      "text/plain": [
       "{'brain': 1000, 'brian': 40000}"
      ]
     },
     "execution_count": 13,
     "metadata": {},
     "output_type": "execute_result"
    }
   ],
   "source": [
    "def shoppingCart():\n",
    "    choice = input(\"Add/Delete/Show or Quit:\")\n",
    "    cart ={}\n",
    "    while choice.lower() != 'quit':\n",
    "\n",
    "        if choice.lower() == 'add':\n",
    "            item = input('item name?')\n",
    "\n",
    "            quantity = int(input('enter quantity added:'))\n",
    "            cart[item] = cart.get(item, 0) + quantity\n",
    "\n",
    "        elif choice.lower() == 'delete':\n",
    "            item = input('item name?')\n",
    "            del(cart[item])\n",
    "\n",
    "        elif choice.lower() == 'show':\n",
    "            for item in cart:\n",
    "                print(item, cart[item])\n",
    "\n",
    "        elif choice.lower() != 'add' or choice.lower() != 'delete' or choice.lower() != 'show' or choice.lower() != 'quit':\n",
    "            print('you have not entered a valid choice')\n",
    "\n",
    "        choice = input(\"Add/Delete/Show or Quit: \")\n",
    "\n",
    "        if choice.lower() == 'quit':\n",
    "            print(cart)\n",
    "            break\n",
    "            cart[item] = quantity\n",
    "    return cart\n",
    "\n",
    "shoppingCart()"
   ]
  },
  {
   "cell_type": "code",
   "execution_count": null,
   "metadata": {},
   "outputs": [],
   "source": []
  }
 ],
 "metadata": {
  "kernelspec": {
   "display_name": "Python 3 (ipykernel)",
   "language": "python",
   "name": "python3"
  },
  "language_info": {
   "codemirror_mode": {
    "name": "ipython",
    "version": 3
   },
   "file_extension": ".py",
   "mimetype": "text/x-python",
   "name": "python",
   "nbconvert_exporter": "python",
   "pygments_lexer": "ipython3",
   "version": "3.9.11"
  }
 },
 "nbformat": 4,
 "nbformat_minor": 2
}
